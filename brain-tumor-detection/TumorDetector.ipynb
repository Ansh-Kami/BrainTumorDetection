{
 "cells": [
  {
   "cell_type": "markdown",
   "id": "161b704c-8f16-4dc7-8585-65273513e583",
   "metadata": {},
   "source": [
    "# Importing Dependencies and Libraries"
   ]
  },
  {
   "cell_type": "code",
   "execution_count": 16,
   "id": "8e1a2c4f-a693-4b5a-bb12-ec6b97bc8adc",
   "metadata": {},
   "outputs": [],
   "source": [
    "import pandas as pd                                                                                                #Data manipulation and analysis\n",
    "import numpy as np                                                                                                 #Handling n-dimensional arrays and their operations\n",
    "import seaborn as sns                                                                                              #High level data-visualization tool\n",
    "import matplotlib.pyplot as plt                                                                                    #Low-level, customisable tool\n",
    "from warnings import filterwarnings                                                                                #Ignoring redundant alerts\n",
    "from sklearn.metrics import confusion_matrix, accuracy_score, classification_report, roc_auc_score, roc_curve\n",
    "# Confusion Matrix - 2 dimensional arrays showcasing true/false positives/negatives in classification problems\n",
    "# Accuracy Score - outputs the accuracy of of labe;s\n",
    "# Classification Report- tabulates parameters like precision, recall, f1_Score, support\n",
    "from tensorflow.keras.models import Sequential                                                                     #Model that outputs sequence of data ie. text, audio-clips, images \n",
    "from keras.layers import Dense, Dropout, Flatten, Conv2D, MaxPool2D, BatchNormalization, MaxPooling2D\n",
    "from keras import models       \n",
    "from keras import layers\n",
    "import tensorflow as tf\n",
    "import os                                                                                                          #Library to interact with the operating system, file handling\n",
    "import os.path\n",
    "from pathlib import Path                                                                                           #Object API to work with files and directories\n",
    "import cv2                                                                                                         #Image processing\n",
    "from tensorflow.keras.preprocessing.image import ImageDataGenerator                                                #Augumenting images in dataset while model is running\n",
    "from keras.utils.np_utils import to_categorical                                                                    #One-hot-encoding for labelled data\n",
    "from sklearn.model_selection import train_test_split                                                               #Splits into training and testing datasets\n",
    "from keras import regularizers                       \n",
    "from tensorflow.keras.optimizers import RMSprop, Adam                                                              #Optimizers used in the code\n",
    "import glob                                                                                                        #Returning the filenames, directories that match a pattern\n",
    "from PIL import Image                                                                                              #Image editing in-built python\n",
    "\n",
    "filterwarnings(\"ignore\", category=DeprecationWarning)\n",
    "filterwarnings(\"ignore\", category=FutureWarning)\n",
    "filterwarnings(\"ignore\", category=UserWarning)\n"
   ]
  }
 ],
 "metadata": {
  "kernelspec": {
   "display_name": "Python 3 (ipykernel)",
   "language": "python",
   "name": "python3"
  },
  "language_info": {
   "codemirror_mode": {
    "name": "ipython",
    "version": 3
   },
   "file_extension": ".py",
   "mimetype": "text/x-python",
   "name": "python",
   "nbconvert_exporter": "python",
   "pygments_lexer": "ipython3",
   "version": "3.9.12"
  }
 },
 "nbformat": 4,
 "nbformat_minor": 5
}
