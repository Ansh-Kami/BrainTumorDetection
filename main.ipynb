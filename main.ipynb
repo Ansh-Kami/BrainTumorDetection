{
 "cells": [
  {
   "cell_type": "markdown",
   "metadata": {},
   "source": [
    "Importing Libraries and ignoring warnings"
   ]
  },
  {
   "cell_type": "code",
   "execution_count": 2,
   "metadata": {},
   "outputs": [],
   "source": [
    "import pandas as pd\n",
    "import numpy as np\n",
    "import seaborn as sns\n",
    "import matplotlib.pyplot as plt\n",
    "from warnings import filterwarnings\n",
    "from sklearn.metrics import confusion_matrix, accuracy_score, classification_report, roc_auc_score, roc_curve\n",
    "from tensorflow.keras.models import Sequential\n",
    "from keras.layers import Dense, Dropout, Flatten, Conv2D, MaxPool2D, BatchNormalization,MaxPooling2D\n",
    "from keras import models\n",
    "from keras import layers\n",
    "import tensorflow as tf\n",
    "import os\n",
    "import os.path\n",
    "from pathlib import Path\n",
    "import cv2\n",
    "from tensorflow.keras.preprocessing.image import ImageDataGenerator\n",
    "from keras.utils.np_utils import to_categorical\n",
    "from sklearn.model_selection import train_test_split\n",
    "from keras import regularizers\n",
    "from keras.optimizers import RMSprop,Adam\n",
    "import glob\n",
    "from PIL import Image\n",
    "\n",
    "# IGNORING UNNECESSARRY WARNINGS\n",
    "\n",
    "filterwarnings(\"ignore\",category=DeprecationWarning)\n",
    "filterwarnings(\"ignore\", category=FutureWarning) \n",
    "filterwarnings(\"ignore\", category=UserWarning)"
   ]
  },
  {
   "cell_type": "markdown",
   "metadata": {},
   "source": [
    "Organization of the Data"
   ]
  },
  {
   "cell_type": "code",
   "execution_count": 3,
   "metadata": {},
   "outputs": [],
   "source": [
    "#Training Set\n",
    "\n",
    "No_DataPath = Path(\"brain-tumor-detection/no/\")\n",
    "Yes_DataPath = Path(\"brain-tumor-detection/yes/\")\n",
    "\n",
    "No_jpgList = list(No_DataPath.glob(r\"*.jpg\"))\n",
    "Yes_jpgList = list(Yes_DataPath.glob(r\"*.jpg\"))"
   ]
  },
  {
   "cell_type": "code",
   "execution_count": null,
   "metadata": {},
   "outputs": [],
   "source": [
    "#Checking whether list works\n",
    "\n",
    "print(No_jpgList[0:7])\n",
    "print(\"-----------------------\"*5)\n",
    "print(Yes_jpgList[0:7])"
   ]
  },
  {
   "cell_type": "code",
   "execution_count": 6,
   "metadata": {},
   "outputs": [
    {
     "name": "stdout",
     "output_type": "stream",
     "text": [
      "[WindowsPath('brain-tumor-detection/no/no0.jpg'), WindowsPath('brain-tumor-detection/no/no1.jpg'), WindowsPath('brain-tumor-detection/no/no10.jpg'), WindowsPath('brain-tumor-detection/no/no100.jpg'), WindowsPath('brain-tumor-detection/no/no1000.jpg')]\n"
     ]
    }
   ],
   "source": [
    "#creating a list with both yes and no pictures\n",
    "\n",
    "yn_List = []\n",
    "\n",
    "for i in No_jpgList:\n",
    "    yn_List.append(i)\n",
    "\n",
    "for i in Yes_jpgList:\n",
    "    yn_List.append(i)\n",
    "\n",
    "print(yn_List[0:5])"
   ]
  }
 ],
 "metadata": {
  "kernelspec": {
   "display_name": "Python 3.10.0 64-bit",
   "language": "python",
   "name": "python3"
  },
  "language_info": {
   "codemirror_mode": {
    "name": "ipython",
    "version": 3
   },
   "file_extension": ".py",
   "mimetype": "text/x-python",
   "name": "python",
   "nbconvert_exporter": "python",
   "pygments_lexer": "ipython3",
   "version": "3.10.0"
  },
  "orig_nbformat": 4,
  "vscode": {
   "interpreter": {
    "hash": "7a69ba303b24cfbb6e941be20165e0cfe99cb38ee717ea9c009e959c65b23de0"
   }
  }
 },
 "nbformat": 4,
 "nbformat_minor": 2
}
