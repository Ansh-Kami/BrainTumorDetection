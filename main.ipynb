{
 "cells": [
  {
   "cell_type": "markdown",
   "metadata": {},
   "source": [
    "Credit for Code: https://www.kaggle.com/code/brsdincer/brain-tumor-prediction-new-data-full-explanation"
   ]
  },
  {
   "cell_type": "markdown",
   "metadata": {},
   "source": [
    "Importing Libraries and ignoring warnings"
   ]
  },
  {
   "cell_type": "code",
   "execution_count": null,
   "metadata": {},
   "outputs": [],
   "source": [
    "import pandas as pd\n",
    "import numpy as np\n",
    "import seaborn as sns\n",
    "import matplotlib.pyplot as plt\n",
    "from warnings import filterwarnings\n",
    "from sklearn.metrics import confusion_matrix, accuracy_score, classification_report, roc_auc_score, roc_curve\n",
    "from tensorflow.keras.models import Sequential\n",
    "from keras.layers import Dense, Dropout, Flatten, Conv2D, MaxPool2D, BatchNormalization,MaxPooling2D\n",
    "from keras import models\n",
    "from keras import layers\n",
    "import tensorflow as tf\n",
    "import os\n",
    "import os.path\n",
    "from pathlib import Path\n",
    "import cv2\n",
    "from tensorflow.keras.preprocessing.image import ImageDataGenerator\n",
    "from keras.utils.np_utils import to_categorical\n",
    "from sklearn.model_selection import train_test_split\n",
    "from keras import regularizers\n",
    "from keras.optimizers import RMSprop,Adam\n",
    "import glob\n",
    "from PIL import Image\n",
    "\n",
    "# IGNORING UNNECESSARRY WARNINGS\n",
    "\n",
    "filterwarnings(\"ignore\",category=DeprecationWarning)\n",
    "filterwarnings(\"ignore\", category=FutureWarning) \n",
    "filterwarnings(\"ignore\", category=UserWarning)"
   ]
  },
  {
   "cell_type": "markdown",
   "metadata": {},
   "source": [
    "Organization of the Data"
   ]
  },
  {
   "cell_type": "markdown",
   "metadata": {},
   "source": [
    "Training Set"
   ]
  },
  {
   "cell_type": "code",
   "execution_count": null,
   "metadata": {},
   "outputs": [],
   "source": [
    "#Training Set\n",
    "\n",
    "No_DataPath = Path(\"brain-tumor-detection/no/\")\n",
    "Yes_DataPath = Path(\"brain-tumor-detection/yes/\")\n",
    "\n",
    "No_jpgList = list(No_DataPath.glob(r\"*.jpg\"))\n",
    "Yes_jpgList = list(Yes_DataPath.glob(r\"*.jpg\"))"
   ]
  },
  {
   "cell_type": "code",
   "execution_count": null,
   "metadata": {},
   "outputs": [],
   "source": [
    "#Checking whether list works\n",
    "\n",
    "print(No_jpgList[0:7])\n",
    "print(\"-----------------------\"*5)\n",
    "print(Yes_jpgList[0:7])"
   ]
  },
  {
   "cell_type": "code",
   "execution_count": null,
   "metadata": {},
   "outputs": [],
   "source": [
    "#creating a list with both yes and no pictures\n",
    "\n",
    "yn_List = []\n",
    "\n",
    "for i in No_jpgList:\n",
    "    yn_List.append(i)\n",
    "\n",
    "for i in Yes_jpgList:\n",
    "    yn_List.append(i)\n",
    "\n",
    "print(yn_List[0:5])"
   ]
  },
  {
   "cell_type": "code",
   "execution_count": 32,
   "metadata": {},
   "outputs": [
    {
     "name": "stdout",
     "output_type": "stream",
     "text": [
      "['no', 'no', 'no', 'no', 'no', 'no', 'no', 'no', 'no', 'no']\n"
     ]
    }
   ],
   "source": [
    "#Creating a list of catagories for better organization\n",
    "\n",
    "jpgCat = list(map(lambda x: os.path.split(os.path.split(x)[0])[1], yn_List))\n",
    "print(jpgCat[0:10])\n",
    "\n"
   ]
  },
  {
   "cell_type": "code",
   "execution_count": null,
   "metadata": {},
   "outputs": [],
   "source": [
    "#Creating Pandas Table\n",
    "\n",
    "jpgPath_series = pd.Series(yn_List, name=\"JPG\").astype(str)\n",
    "jpgCat_series = pd.Series(jpgCat, name=\"Category\")\n",
    "\n",
    "TrainData = pd.concat([jpgPath_series, jpgCat_series], axis = 1)\n",
    "\n",
    "#Shuffling the data\n",
    "TrainData = TrainData.sample(frac = 1).reset_index(drop=True)\n",
    "\n",
    "print(TrainData.head(-1))"
   ]
  },
  {
   "cell_type": "markdown",
   "metadata": {},
   "source": [
    "Test Set"
   ]
  },
  {
   "cell_type": "code",
   "execution_count": 30,
   "metadata": {},
   "outputs": [],
   "source": [
    "#Test Set\n",
    "testPath = Path(\"brain-tumor-detection/pred/\")\n",
    "testJPG = list(testPath.glob(r\"*.jpg\"))"
   ]
  },
  {
   "cell_type": "code",
   "execution_count": 31,
   "metadata": {},
   "outputs": [
    {
     "name": "stdout",
     "output_type": "stream",
     "text": [
      "[WindowsPath('brain-tumor-detection/pred/pred0.jpg'), WindowsPath('brain-tumor-detection/pred/pred1.jpg'), WindowsPath('brain-tumor-detection/pred/pred10.jpg'), WindowsPath('brain-tumor-detection/pred/pred11.jpg'), WindowsPath('brain-tumor-detection/pred/pred12.jpg')]\n"
     ]
    }
   ],
   "source": [
    "#Checking if list prints\n",
    "\n",
    "print(testJPG[0:5])"
   ]
  },
  {
   "cell_type": "code",
   "execution_count": 35,
   "metadata": {},
   "outputs": [
    {
     "name": "stdout",
     "output_type": "stream",
     "text": [
      "['pred', 'pred', 'pred', 'pred', 'pred']\n"
     ]
    }
   ],
   "source": [
    "#Creating a list of labels for test set\n",
    "\n",
    "testLabels = list(map(lambda x: os.path.split(os.path.split(x)[0])[1],testJPG))\n",
    "print(testLabels[0:5])"
   ]
  },
  {
   "cell_type": "code",
   "execution_count": null,
   "metadata": {},
   "outputs": [],
   "source": []
  }
 ],
 "metadata": {
  "kernelspec": {
   "display_name": "Python 3.10.0 64-bit",
   "language": "python",
   "name": "python3"
  },
  "language_info": {
   "codemirror_mode": {
    "name": "ipython",
    "version": 3
   },
   "file_extension": ".py",
   "mimetype": "text/x-python",
   "name": "python",
   "nbconvert_exporter": "python",
   "pygments_lexer": "ipython3",
   "version": "3.10.0"
  },
  "orig_nbformat": 4,
  "vscode": {
   "interpreter": {
    "hash": "7a69ba303b24cfbb6e941be20165e0cfe99cb38ee717ea9c009e959c65b23de0"
   }
  }
 },
 "nbformat": 4,
 "nbformat_minor": 2
}
