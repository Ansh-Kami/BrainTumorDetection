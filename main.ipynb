{
 "cells": [
  {
   "cell_type": "markdown",
   "metadata": {},
   "source": [
    "Credit for Code: https://www.kaggle.com/code/brsdincer/brain-tumor-prediction-new-data-full-explanation"
   ]
  },
  {
   "cell_type": "markdown",
   "metadata": {},
   "source": [
    "Importing Libraries and ignoring warnings"
   ]
  },
  {
   "cell_type": "markdown",
   "metadata": {},
   "source": [
    "Doubts:\n",
    "\n",
    "Batches -> Data batch and label batch -> what is it?\n",
    "Ask about image data generator\n",
    "ask about validation set"
   ]
  },
  {
   "cell_type": "code",
   "execution_count": null,
   "metadata": {},
   "outputs": [],
   "source": [
    "import pandas as pd\n",
    "import numpy as np\n",
    "import seaborn as sns\n",
    "import matplotlib.pyplot as plt\n",
    "from warnings import filterwarnings\n",
    "from sklearn.metrics import confusion_matrix, accuracy_score, classification_report, roc_auc_score, roc_curve\n",
    "from tensorflow.keras.models import Sequential\n",
    "from keras.layers import Dense, Dropout, Flatten, Conv2D, MaxPool2D, BatchNormalization,MaxPooling2D\n",
    "from keras import models\n",
    "from keras import layers\n",
    "import tensorflow as tf\n",
    "import os\n",
    "import os.path\n",
    "from pathlib import Path\n",
    "import cv2\n",
    "from tensorflow.keras.preprocessing.image import ImageDataGenerator\n",
    "from keras.utils.np_utils import to_categorical\n",
    "from sklearn.model_selection import train_test_split\n",
    "from keras import regularizers\n",
    "from keras.optimizers import RMSprop,Adam\n",
    "import glob\n",
    "from PIL import Image\n",
    "\n",
    "# IGNORING UNNECESSARRY WARNINGS\n",
    "\n",
    "filterwarnings(\"ignore\",category=DeprecationWarning)\n",
    "filterwarnings(\"ignore\", category=FutureWarning) \n",
    "filterwarnings(\"ignore\", category=UserWarning)"
   ]
  },
  {
   "cell_type": "markdown",
   "metadata": {},
   "source": [
    "Organization of the Data"
   ]
  },
  {
   "cell_type": "markdown",
   "metadata": {},
   "source": [
    "Training Set"
   ]
  },
  {
   "cell_type": "code",
   "execution_count": null,
   "metadata": {},
   "outputs": [],
   "source": [
    "#Training Set\n",
    "\n",
    "No_DataPath = Path(\"brain-tumor-detection/no/\")\n",
    "Yes_DataPath = Path(\"brain-tumor-detection/yes/\")\n",
    "\n",
    "No_jpgList = list(No_DataPath.glob(r\"*.jpg\"))\n",
    "Yes_jpgList = list(Yes_DataPath.glob(r\"*.jpg\"))"
   ]
  },
  {
   "cell_type": "code",
   "execution_count": null,
   "metadata": {},
   "outputs": [],
   "source": [
    "#Checking whether list works\n",
    "\n",
    "print(No_jpgList[0:7])\n",
    "print(\"-----------------------\"*5)\n",
    "print(Yes_jpgList[0:7])"
   ]
  },
  {
   "cell_type": "code",
   "execution_count": null,
   "metadata": {},
   "outputs": [],
   "source": [
    "#creating a list with both yes and no pictures\n",
    "\n",
    "yn_List = []\n",
    "\n",
    "for i in No_jpgList:\n",
    "    yn_List.append(i)\n",
    "\n",
    "for i in Yes_jpgList:\n",
    "    yn_List.append(i)\n",
    "\n",
    "print(yn_List[0:5])"
   ]
  },
  {
   "cell_type": "code",
   "execution_count": null,
   "metadata": {},
   "outputs": [],
   "source": [
    "#Creating a list of catagories for better organization\n",
    "\n",
    "jpgCat = list(map(lambda x: os.path.split(os.path.split(x)[0])[1], yn_List))\n",
    "print(jpgCat[0:10])\n",
    "\n"
   ]
  },
  {
   "cell_type": "code",
   "execution_count": null,
   "metadata": {},
   "outputs": [],
   "source": [
    "#Creating Pandas Table\n",
    "\n",
    "jpgPath_series = pd.Series(yn_List, name=\"JPG\").astype(str)\n",
    "jpgCat_series = pd.Series(jpgCat, name=\"Category\")\n",
    "\n",
    "TrainData = pd.concat([jpgPath_series, jpgCat_series], axis = 1)\n",
    "\n",
    "#Shuffling the data\n",
    "TrainData = TrainData.sample(frac = 1).reset_index(drop=True)\n",
    "\n",
    "print(TrainData.head(-1))"
   ]
  },
  {
   "cell_type": "markdown",
   "metadata": {},
   "source": [
    "Test Set"
   ]
  },
  {
   "cell_type": "code",
   "execution_count": null,
   "metadata": {},
   "outputs": [],
   "source": [
    "#Test Set\n",
    "testPath = Path(\"brain-tumor-detection/pred/\")\n",
    "testJPG = list(testPath.glob(r\"*.jpg\"))"
   ]
  },
  {
   "cell_type": "code",
   "execution_count": null,
   "metadata": {},
   "outputs": [],
   "source": [
    "#Checking if list prints\n",
    "\n",
    "print(testJPG[0:5])"
   ]
  },
  {
   "cell_type": "code",
   "execution_count": null,
   "metadata": {},
   "outputs": [],
   "source": [
    "#Creating a list of labels for test set\n",
    "\n",
    "testLabels = list(map(lambda x: os.path.split(os.path.split(x)[0])[1],testJPG))\n",
    "print(testLabels[0:5])"
   ]
  },
  {
   "cell_type": "code",
   "execution_count": 21,
   "metadata": {},
   "outputs": [
    {
     "name": "stdout",
     "output_type": "stream",
     "text": [
      "                                     JPG Category\n",
      "0   brain-tumor-detection\\pred\\pred0.jpg     pred\n",
      "1   brain-tumor-detection\\pred\\pred1.jpg     pred\n",
      "2  brain-tumor-detection\\pred\\pred10.jpg     pred\n",
      "3  brain-tumor-detection\\pred\\pred11.jpg     pred\n",
      "4  brain-tumor-detection\\pred\\pred12.jpg     pred\n"
     ]
    }
   ],
   "source": [
    "testJPG_Series = pd.Series(testJPG, name = \"JPG\").astype(str)\n",
    "testLabels_Series = pd.Series(testLabels, name = \"Category\")\n",
    "\n",
    "testData = pd.concat([testJPG_Series, testLabels_Series], axis=1)\n",
    "print(testData.head())"
   ]
  },
  {
   "cell_type": "markdown",
   "metadata": {},
   "source": [
    "Visualizaing in the form of Images"
   ]
  },
  {
   "cell_type": "code",
   "execution_count": null,
   "metadata": {},
   "outputs": [],
   "source": [
    "img = plt.figure(figsize=(10, 10))\n",
    "plt.imshow(plt.imread(TrainData[\"JPG\"][10]))\n",
    "plt.title(TrainData[\"Category\"][10])"
   ]
  },
  {
   "cell_type": "code",
   "execution_count": null,
   "metadata": {},
   "outputs": [],
   "source": [
    "fig, axes = plt.subplots(nrows = 5, ncols = 5, figsize=(10,10),subplot_kw ={'xticks':[], 'yticks':[]})\n",
    "\n",
    "for i, ax in enumerate(axes.flat):\n",
    "    ax.imshow(plt.imread(TrainData[\"JPG\"][i]))\n",
    "    ax.set_title(TrainData[\"Category\"][i])\n",
    "\n",
    "plt.tight_layout()\n",
    "plt.show()"
   ]
  },
  {
   "cell_type": "code",
   "execution_count": 19,
   "metadata": {},
   "outputs": [
    {
     "name": "stdout",
     "output_type": "stream",
     "text": [
      "(2400, 2)\n",
      "                                      JPG Category\n",
      "642    brain-tumor-detection\\yes\\y437.jpg      yes\n",
      "700    brain-tumor-detection\\yes\\y925.jpg      yes\n",
      "226    brain-tumor-detection\\yes\\y622.jpg      yes\n",
      "1697  brain-tumor-detection\\yes\\y1376.jpg      yes\n",
      "1010   brain-tumor-detection\\yes\\y176.jpg      yes\n",
      "...                                   ...      ...\n",
      "2169   brain-tumor-detection\\no\\no501.jpg       no\n",
      "1638   brain-tumor-detection\\yes\\y169.jpg      yes\n",
      "1095  brain-tumor-detection\\no\\no1046.jpg       no\n",
      "1130   brain-tumor-detection\\yes\\y145.jpg      yes\n",
      "1294   brain-tumor-detection\\yes\\y464.jpg      yes\n",
      "\n",
      "[2399 rows x 2 columns]\n",
      "----------------------------------------------------------------------------------------------------------------\n",
      "(600, 2)\n"
     ]
    }
   ],
   "source": [
    "train_data, test_data = train_test_split(TrainData, train_size=0.8, random_state=42)\n",
    "print(train_data.shape)\n",
    "print(train_data.head(-1))\n",
    "print(\"--------------\"*8)\n",
    "print(test_data.shape)"
   ]
  },
  {
   "cell_type": "markdown",
   "metadata": {},
   "source": [
    "Image Data Generator"
   ]
  },
  {
   "cell_type": "code",
   "execution_count": 22,
   "metadata": {},
   "outputs": [
    {
     "name": "stdout",
     "output_type": "stream",
     "text": [
      "Found 2160 validated image filenames belonging to 2 classes.\n",
      "Found 240 validated image filenames belonging to 2 classes.\n",
      "Found 600 validated image filenames belonging to 2 classes.\n"
     ]
    }
   ],
   "source": [
    "from cv2 import batchDistance\n",
    "\n",
    "\n",
    "Generator = ImageDataGenerator(rescale=1./255, validation_split=0.1)\n",
    "\n",
    "Train_Set = Generator.flow_from_dataframe(dataframe=train_data,\n",
    "                                               x_col=\"JPG\",\n",
    "                                               y_col=\"Category\",\n",
    "                                               color_mode=\"grayscale\",\n",
    "                                               class_mode=\"categorical\",\n",
    "                                               subset=\"training\",\n",
    "                                               batch_size=20,\n",
    "                                               target_size=(200,200))\n",
    "\n",
    "Validation_Set = Generator.flow_from_dataframe(dataframe=train_data,\n",
    "                                                     x_col=\"JPG\",\n",
    "                                                     y_col=\"Category\",\n",
    "                                                     color_mode=\"grayscale\",\n",
    "                                                     class_mode=\"categorical\",\n",
    "                                                     subset=\"validation\",\n",
    "                                                     batch_size=20,\n",
    "                                                     target_size=(200,200))\n",
    "\n",
    "\n",
    "Test_Set = Generator.flow_from_dataframe(dataframe=test_data,\n",
    "                                              x_col=\"JPG\",\n",
    "                                              y_col=\"Category\",\n",
    "                                              color_mode=\"grayscale\",\n",
    "                                              class_mode=\"categorical\",\n",
    "                                              batch_size=20,\n",
    "                                              target_size=(200,200))"
   ]
  },
  {
   "cell_type": "code",
   "execution_count": 27,
   "metadata": {},
   "outputs": [
    {
     "name": "stdout",
     "output_type": "stream",
     "text": [
      "(20, 200, 200, 1)\n",
      "(20, 2)\n"
     ]
    }
   ],
   "source": [
    "for i,j in Train_Set:\n",
    "    print(i.shape)\n",
    "    print(j.shape)\n",
    "    break"
   ]
  }
 ],
 "metadata": {
  "kernelspec": {
   "display_name": "Python 3.10.0 64-bit",
   "language": "python",
   "name": "python3"
  },
  "language_info": {
   "codemirror_mode": {
    "name": "ipython",
    "version": 3
   },
   "file_extension": ".py",
   "mimetype": "text/x-python",
   "name": "python",
   "nbconvert_exporter": "python",
   "pygments_lexer": "ipython3",
   "version": "3.10.0"
  },
  "orig_nbformat": 4,
  "vscode": {
   "interpreter": {
    "hash": "7a69ba303b24cfbb6e941be20165e0cfe99cb38ee717ea9c009e959c65b23de0"
   }
  }
 },
 "nbformat": 4,
 "nbformat_minor": 2
}
